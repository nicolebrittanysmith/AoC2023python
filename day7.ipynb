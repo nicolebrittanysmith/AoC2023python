{
 "cells": [
  {
   "cell_type": "code",
   "execution_count": 61,
   "metadata": {},
   "outputs": [],
   "source": [
    "# Import\n",
    "\n",
    "path = \"input/day7.txt\"\n",
    "file = open(path, 'r')\n",
    "data = file.readlines()\n",
    "file.close()"
   ]
  },
  {
   "cell_type": "markdown",
   "metadata": {},
   "source": [
    "You are given a list of hands and their corresponding bid.\n",
    "Each hand wins an amount equal to its bid multiplied by its rank, where the weakest hand gets rank 1, the second-weakest hand gets rank 2, and so on up to the strongest hand.\n",
    "(A new challenge in this problem is the idea of non-numeric value comparison. To address this easily, I plan to assign an arbitrary numeric value to each characteristic, and multiply the more important characteristics by larger values)"
   ]
  },
  {
   "cell_type": "markdown",
   "metadata": {},
   "source": [
    "A hand consists of five cards labeled one of A, K, Q, J, T, 9, 8, 7, 6, 5, 4, 3, or 2 (descending order of strength).\n",
    "Every hand is exactly one type. From strongest to weakest, they are:\n",
    "- Five of a kind, where all five cards have the same label: AAAAA\n",
    "- Four of a kind, where four cards have the same label and one card has a different label: AA8AA\n",
    "- Full house, where three cards have the same label, and the remaining two cards share a different label: 23332\n",
    "- Three of a kind, where three cards have the same label, and the remaining two cards are each different from any other card in the hand: TTT98\n",
    "- Two pair, where two cards share one label, two other cards share a second label, and the remaining card has a third label: 23432\n",
    "- One pair, where two cards share one label, and the other three cards have a different label from the pair and each other: A23A4\n",
    "- High card, where all cards' labels are distinct: 23456"
   ]
  },
  {
   "cell_type": "code",
   "execution_count": 62,
   "metadata": {},
   "outputs": [],
   "source": [
    "from enum import Enum \n",
    "from collections import Counter\n",
    "\n",
    "class HandType(Enum):\n",
    "    FIVE_OF_KIND = 7\n",
    "    FOUR_OF_KIND = 6\n",
    "    FULL_HOUSE = 5\n",
    "    THREE_OF_KIND = 4\n",
    "    TWO_PAIR = 3\n",
    "    ONE_PAIR = 2\n",
    "    HIGH_CARD = 1\n",
    "\n",
    "def map_char_to_val(char) -> int:\n",
    "    match char:\n",
    "        case \"2\" | \"3\" | \"4\" | \"5\" | \"6\" | \"7\" | \"8\" | \"9\":\n",
    "            return int(char)\n",
    "        case \"T\":\n",
    "            return 10\n",
    "        case \"J\":\n",
    "            return 11\n",
    "        case \"Q\":\n",
    "            return 12\n",
    "        case \"K\":\n",
    "            return 13\n",
    "        case \"A\":\n",
    "            return 14\n",
    "\n",
    "def create_hand_val_dict(cards: str):\n",
    "    # below converts 46644 to {4:3, 6:2} and sorts\n",
    "    return dict(sorted(Counter(cards).items(), key=lambda x: (-x[1], -x[0])))\n",
    "\n",
    "def find_hand_type(cards) -> HandType:\n",
    "    if 5 in cards.values():\n",
    "        return HandType.FIVE_OF_KIND\n",
    "    elif 4 in cards.values():\n",
    "        return HandType.FOUR_OF_KIND\n",
    "    elif 3 in cards.values():\n",
    "        if 2 in cards.values():\n",
    "            return HandType.FULL_HOUSE\n",
    "        else:\n",
    "            return HandType.THREE_OF_KIND\n",
    "    elif 2 in cards.values():\n",
    "        if list(cards.values()).count(2) == 2:\n",
    "            return HandType.TWO_PAIR\n",
    "        else:\n",
    "            return HandType.ONE_PAIR\n",
    "    else:\n",
    "        return HandType.HIGH_CARD\n",
    "    \n",
    "\n",
    "def assign_hand_score(cards, hand_type, card_array) -> float:\n",
    "    score = hand_type.value * 100\n",
    "    for i, key in enumerate(card_array):\n",
    "        score += card_array[i] * (100 ** -i)\n",
    "    return score\n",
    "\n",
    "class Hand:\n",
    "    def __init__(self, line: str) -> None:\n",
    "        self.card_array = [map_char_to_val(x) for x in line.split()[0]]\n",
    "        self.card_dict = create_hand_val_dict(self.card_array)\n",
    "        self.hand_type = find_hand_type(self.card_dict)\n",
    "        self.score = assign_hand_score(self.card_dict, self.hand_type, self.card_array)\n",
    "\n",
    "        self.bet = int(line.split()[1])\n",
    "    \n"
   ]
  },
  {
   "cell_type": "code",
   "execution_count": 63,
   "metadata": {},
   "outputs": [],
   "source": [
    "# Prep data\n",
    "\n",
    "hands = [Hand(line) for line in data]"
   ]
  },
  {
   "cell_type": "markdown",
   "metadata": {},
   "source": [
    "Each hand wins an amount equal to its bid multiplied by its rank, where the weakest hand gets rank 1, the second-weakest hand gets rank 2, and so on up to the strongest hand.\n",
    "Now, you can determine the total winnings of this set of hands by adding up the result of multiplying each hand's bid with its rank."
   ]
  },
  {
   "cell_type": "code",
   "execution_count": 64,
   "metadata": {},
   "outputs": [
    {
     "name": "stdout",
     "output_type": "stream",
     "text": [
      "253313241\n"
     ]
    }
   ],
   "source": [
    "# Part 1\n",
    "\n",
    "# sort by hand rank\n",
    "hands.sort(key=lambda x: x.score, reverse=False)\n",
    "\n",
    "total_winnings = 0\n",
    "\n",
    "for i, hand in enumerate(hands):\n",
    "    total_winnings += (i + 1) * hand.bet\n",
    "\n",
    "print(total_winnings)\n"
   ]
  },
  {
   "cell_type": "markdown",
   "metadata": {},
   "source": [
    "Part 2\n",
    "\n",
    "Cards designated J are now Jokers instead of Jacks. Jokers can be any value for purposes of finding the best hand type, but are the lowest card value for tie-breakers."
   ]
  },
  {
   "cell_type": "code",
   "execution_count": 65,
   "metadata": {},
   "outputs": [],
   "source": [
    "# Part 2 definition updates\n",
    "\n",
    "def map_char_to_val(char) -> int:\n",
    "    match char:\n",
    "        case \"2\" | \"3\" | \"4\" | \"5\" | \"6\" | \"7\" | \"8\" | \"9\":\n",
    "            return int(char)\n",
    "        case \"T\":\n",
    "            return 10\n",
    "        case \"J\":\n",
    "            return 1 # updated from 11 to 1 for part 2\n",
    "        case \"Q\":\n",
    "            return 12\n",
    "        case \"K\":\n",
    "            return 13\n",
    "        case \"A\":\n",
    "            return 14\n",
    "\n",
    "def find_hand_type(cards, joker_count) -> HandType:\n",
    "    if joker_count == 5:\n",
    "        largest_group = 0\n",
    "    else:   \n",
    "        largest_group = max(cards.values())\n",
    "    if largest_group + joker_count == 5:\n",
    "        return HandType.FIVE_OF_KIND\n",
    "    elif largest_group + joker_count == 4:\n",
    "        return HandType.FOUR_OF_KIND\n",
    "    elif largest_group + joker_count == 3:\n",
    "        if list(cards.values()).count(2) + list(cards.values()).count(3)  == 2:\n",
    "            return HandType.FULL_HOUSE # normal FH (XXXYY) or 1 joker, 2 pair, (XXYYJ)\n",
    "        else:\n",
    "            return HandType.THREE_OF_KIND\n",
    "    elif largest_group + joker_count == 2:\n",
    "        if list(cards.values()).count(2) == 2:\n",
    "            return HandType.TWO_PAIR # no joker would cause a 2 pair\n",
    "        else:\n",
    "            return HandType.ONE_PAIR\n",
    "    else:\n",
    "        return HandType.HIGH_CARD\n",
    "    \n",
    "\n",
    "def assign_hand_score(cards, hand_type, card_array) -> float:\n",
    "    score = hand_type.value * 100\n",
    "    for i, key in enumerate(card_array):\n",
    "        score += card_array[i] * (100 ** -i)\n",
    "    return score\n",
    "\n",
    "class Hand:\n",
    "    def __init__(self, line: str) -> None:\n",
    "        self.card_array = [map_char_to_val(x) for x in line.split()[0]]\n",
    "        self.card_dict = create_hand_val_dict(self.card_array)\n",
    "        # remove jokers from dict and store as seperate value\n",
    "        self.joker_count = self.card_dict.get(1)\n",
    "        if self.joker_count == None:\n",
    "            self.joker_count = 0\n",
    "        self.card_dict.pop(1, None)\n",
    "\n",
    "        self.hand_type = find_hand_type(self.card_dict, self.joker_count)\n",
    "        self.score = assign_hand_score(self.card_dict, self.hand_type, self.card_array)\n",
    "\n",
    "        self.bet = int(line.split()[1])"
   ]
  },
  {
   "cell_type": "code",
   "execution_count": 66,
   "metadata": {},
   "outputs": [
    {
     "name": "stdout",
     "output_type": "stream",
     "text": [
      "253362743\n"
     ]
    }
   ],
   "source": [
    "# Part 2 solve\n",
    "\n",
    "hands = [Hand(line) for line in data]\n",
    "\n",
    "# sort by hand rank\n",
    "hands.sort(key=lambda x: x.score, reverse=False)\n",
    "\n",
    "total_winnings = 0\n",
    "\n",
    "for i, hand in enumerate(hands):\n",
    "    total_winnings += (i + 1) * hand.bet\n",
    "\n",
    "print(total_winnings)"
   ]
  }
 ],
 "metadata": {
  "kernelspec": {
   "display_name": "base",
   "language": "python",
   "name": "python3"
  },
  "language_info": {
   "codemirror_mode": {
    "name": "ipython",
    "version": 3
   },
   "file_extension": ".py",
   "mimetype": "text/x-python",
   "name": "python",
   "nbconvert_exporter": "python",
   "pygments_lexer": "ipython3",
   "version": "3.12.4"
  }
 },
 "nbformat": 4,
 "nbformat_minor": 2
}
