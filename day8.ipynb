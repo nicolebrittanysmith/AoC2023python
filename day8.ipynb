{
 "cells": [
  {
   "cell_type": "code",
   "execution_count": 11,
   "metadata": {},
   "outputs": [],
   "source": [
    "# Import\n",
    "\n",
    "path = \"input/day8.txt\"\n",
    "file = open(path, 'r')\n",
    "data = file.readlines()\n",
    "file.close()"
   ]
  },
  {
   "cell_type": "markdown",
   "metadata": {},
   "source": [
    "It seems like you're meant to use the left/right instructions to navigate the network.\n",
    "Starting with AAA, you need to look up the next element based on the next left/right instruction in your input, until reaching ZZZ.\n",
    "If you run out of left/right instructions, repeat the whole sequence of instructions as necessary."
   ]
  },
  {
   "cell_type": "code",
   "execution_count": 12,
   "metadata": {},
   "outputs": [],
   "source": [
    "import re\n",
    "\n",
    "class Path:\n",
    "    def __init__(self, line: str) -> None:\n",
    "        places = re.split(r'\\W+', line)\n",
    "        self.start = places[0]\n",
    "        self.left = places[1]\n",
    "        self.right = places[2]\n",
    "\n",
    "    def GetDestination(self, direction):\n",
    "        if direction == 'L':\n",
    "            return self.left\n",
    "        elif direction == 'R':\n",
    "            return self.right\n",
    "        else:\n",
    "            raise ValueError(\"Bad direction\")\n",
    "    "
   ]
  },
  {
   "cell_type": "code",
   "execution_count": 13,
   "metadata": {},
   "outputs": [],
   "source": [
    "directions = list(data[0].strip())\n",
    "\n",
    "paths = [Path(line) for line in data[2:]]\n",
    "\n",
    "def step(start, direction: str) -> str:\n",
    "    return next((p for p in paths if p.start == start), None).GetDestination(direction)"
   ]
  },
  {
   "cell_type": "markdown",
   "metadata": {},
   "source": [
    "Part 1 question: Starting at AAA, follow the left/right instructions. How many steps are required to reach ZZZ?"
   ]
  },
  {
   "cell_type": "code",
   "execution_count": 14,
   "metadata": {},
   "outputs": [
    {
     "name": "stdout",
     "output_type": "stream",
     "text": [
      "17263\n"
     ]
    }
   ],
   "source": [
    "# Part 1\n",
    "\n",
    "steps = 0\n",
    "location = \"AAA\"\n",
    "\n",
    "while True:\n",
    "    location = step(location, directions[steps % len(directions)])\n",
    "    steps += 1\n",
    "    if location == \"ZZZ\":\n",
    "        break\n",
    "\n",
    "print(steps)"
   ]
  },
  {
   "cell_type": "markdown",
   "metadata": {},
   "source": [
    "For part 2, instead of starting at AAA, simultaneously start at all nodes that end with A, and proceed from all nodes simultaneously.\n",
    "\n",
    "Part 2 question: How many steps does it take before you're only on nodes that end with Z?"
   ]
  },
  {
   "cell_type": "code",
   "execution_count": 16,
   "metadata": {},
   "outputs": [
    {
     "name": "stdout",
     "output_type": "stream",
     "text": [
      "True\n"
     ]
    },
    {
     "ename": "KeyboardInterrupt",
     "evalue": "",
     "output_type": "error",
     "traceback": [
      "\u001b[0;31m---------------------------------------------------------------------------\u001b[0m",
      "\u001b[0;31mKeyboardInterrupt\u001b[0m                         Traceback (most recent call last)",
      "Cell \u001b[0;32mIn[16], line 11\u001b[0m\n\u001b[1;32m      9\u001b[0m \u001b[38;5;28;01mwhile\u001b[39;00m \u001b[38;5;28;01mTrue\u001b[39;00m:\n\u001b[1;32m     10\u001b[0m     \u001b[38;5;28;01mfor\u001b[39;00m i \u001b[38;5;129;01min\u001b[39;00m \u001b[38;5;28mrange\u001b[39m(\u001b[38;5;28mlen\u001b[39m(journeys)):\n\u001b[0;32m---> 11\u001b[0m         journeys[i] \u001b[38;5;241m=\u001b[39m step(journeys[i], directions[steps \u001b[38;5;241m%\u001b[39m \u001b[38;5;28mlen\u001b[39m(directions)])\n\u001b[1;32m     12\u001b[0m     steps \u001b[38;5;241m+\u001b[39m\u001b[38;5;241m=\u001b[39m \u001b[38;5;241m1\u001b[39m\n\u001b[1;32m     13\u001b[0m     \u001b[38;5;28;01mif\u001b[39;00m all_journeys_at_z(journeys):\n",
      "Cell \u001b[0;32mIn[13], line 6\u001b[0m, in \u001b[0;36mstep\u001b[0;34m(start, direction)\u001b[0m\n\u001b[1;32m      5\u001b[0m \u001b[38;5;28;01mdef\u001b[39;00m \u001b[38;5;21mstep\u001b[39m(start, direction: \u001b[38;5;28mstr\u001b[39m) \u001b[38;5;241m-\u001b[39m\u001b[38;5;241m>\u001b[39m \u001b[38;5;28mstr\u001b[39m:\n\u001b[0;32m----> 6\u001b[0m     \u001b[38;5;28;01mreturn\u001b[39;00m \u001b[38;5;28mnext\u001b[39m((p \u001b[38;5;28;01mfor\u001b[39;00m p \u001b[38;5;129;01min\u001b[39;00m paths \u001b[38;5;28;01mif\u001b[39;00m p\u001b[38;5;241m.\u001b[39mstart \u001b[38;5;241m==\u001b[39m start), \u001b[38;5;28;01mNone\u001b[39;00m)\u001b[38;5;241m.\u001b[39mGetDestination(direction)\n",
      "Cell \u001b[0;32mIn[13], line 6\u001b[0m, in \u001b[0;36m<genexpr>\u001b[0;34m(.0)\u001b[0m\n\u001b[1;32m      5\u001b[0m \u001b[38;5;28;01mdef\u001b[39;00m \u001b[38;5;21mstep\u001b[39m(start, direction: \u001b[38;5;28mstr\u001b[39m) \u001b[38;5;241m-\u001b[39m\u001b[38;5;241m>\u001b[39m \u001b[38;5;28mstr\u001b[39m:\n\u001b[0;32m----> 6\u001b[0m     \u001b[38;5;28;01mreturn\u001b[39;00m \u001b[38;5;28mnext\u001b[39m((p \u001b[38;5;28;01mfor\u001b[39;00m p \u001b[38;5;129;01min\u001b[39;00m paths \u001b[38;5;28;01mif\u001b[39;00m p\u001b[38;5;241m.\u001b[39mstart \u001b[38;5;241m==\u001b[39m start), \u001b[38;5;28;01mNone\u001b[39;00m)\u001b[38;5;241m.\u001b[39mGetDestination(direction)\n",
      "\u001b[0;31mKeyboardInterrupt\u001b[0m: "
     ]
    }
   ],
   "source": [
    "journeys = [x.start for x in paths if x.start[2] == \"A\"]\n",
    "steps = 0\n",
    "\n",
    "print(all(journey[2] == \"A\" for journey in journeys))\n",
    "\n",
    "def all_journeys_at_z(j: list) -> bool:\n",
    "    return all(journey[2] == \"Z\" for journey in j)\n",
    "\n",
    "while True:\n",
    "    for i in range(len(journeys)):\n",
    "        journeys[i] = step(journeys[i], directions[steps % len(directions)])\n",
    "    steps += 1\n",
    "    if all_journeys_at_z(journeys):\n",
    "        break\n",
    "\n",
    "\n",
    "print(steps)"
   ]
  }
 ],
 "metadata": {
  "kernelspec": {
   "display_name": "base",
   "language": "python",
   "name": "python3"
  },
  "language_info": {
   "codemirror_mode": {
    "name": "ipython",
    "version": 3
   },
   "file_extension": ".py",
   "mimetype": "text/x-python",
   "name": "python",
   "nbconvert_exporter": "python",
   "pygments_lexer": "ipython3",
   "version": "3.12.4"
  }
 },
 "nbformat": 4,
 "nbformat_minor": 2
}
